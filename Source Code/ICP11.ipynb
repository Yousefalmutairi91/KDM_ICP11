{
  "nbformat": 4,
  "nbformat_minor": 0,
  "metadata": {
    "colab": {
      "name": "ICP11.ipynb",
      "provenance": [],
      "collapsed_sections": []
    },
    "kernelspec": {
      "name": "python3",
      "display_name": "Python 3"
    },
    "language_info": {
      "name": "python"
    },
    "accelerator": "GPU"
  },
  "cells": [
    {
      "cell_type": "markdown",
      "metadata": {
        "id": "-jFFRbCqzRY8"
      },
      "source": [
        "In this ICP we will build 2 feed forward network.\n",
        "\n",
        ">Auto Encoder\n",
        "\n",
        ">CNN\n",
        "\n",
        ">Data Set\n",
        "\n",
        ">> This is a cifar10 dataset of 50,000 32x32 color training images and 10,000 test images, labeled over 10 categories.\n",
        "\n",
        "\n"
      ]
    },
    {
      "cell_type": "markdown",
      "metadata": {
        "id": "XGzIpl7P0U6_"
      },
      "source": [
        "Auto Encoders:\n",
        "\n",
        ">>Data compression is a big topic that’s used in computer vision, computer networks, computer architecture, and many other fields.The point of data compression is to convert our input into a smaller representation that we recreate, to a degree of quality. This smaller representation is what would be passed around, and, when anyone needed the original, they would reconstruct it from the smaller representation.Autoencoders are unsupervised neural networks that use machine learning to do this compression \n"
      ]
    },
    {
      "cell_type": "code",
      "metadata": {
        "id": "r9_cWbPki6tv"
      },
      "source": [
        "# ref for the dataset : https://keras.io/api/datasets\n",
        "\n",
        "from keras.layers import Layer, Input, Dense, ActivityRegularization, Reshape\n",
        "from keras.models import Model, Sequential\n",
        "from keras.datasets import cifar10\n",
        " \n",
        "import numpy as np\n",
        "import matplotlib.pyplot as plt"
      ],
      "execution_count": 67,
      "outputs": []
    },
    {
      "cell_type": "markdown",
      "metadata": {
        "id": "fZMxXfcA0wIW"
      },
      "source": [
        "Load  cifar10 handwritten digits dataset.\n",
        "\n",
        "There is no need to load labels because autoencoders are unsupervised.\n",
        "\n",
        "Rescale our images from 0 – 255 to 0 – 1 and flatten them out.\n"
      ]
    },
    {
      "cell_type": "code",
      "metadata": {
        "id": "-z3fLLrtjO1X"
      },
      "source": [
        "#Notice that we’re not loading any of the labels because autoencoders are unsupervised\n",
        "(X_train, _), (X_test, _) = cifar10.load_data()\n",
        "# rescale our images from 0 – 255 to 0 – 1 and flatten them out.\n",
        "X_train = X_train.astype('float32') / 255.\n",
        "X_test = X_test.astype('float32') / 255.\n",
        "X_train = X_train.reshape((X_train.shape[0], -1))\n",
        "X_test = X_test.reshape((X_test.shape[0], -1))"
      ],
      "execution_count": 68,
      "outputs": []
    },
    {
      "cell_type": "code",
      "metadata": {
        "colab": {
          "base_uri": "https://localhost:8080/"
        },
        "id": "MceFF_0BjO9O",
        "outputId": "119895ea-2e05-4eb0-b35c-9e439d40ff77"
      },
      "source": [
        "X_train.shape"
      ],
      "execution_count": 69,
      "outputs": [
        {
          "output_type": "execute_result",
          "data": {
            "text/plain": [
              "(50000, 3072)"
            ]
          },
          "metadata": {
            "tags": []
          },
          "execution_count": 69
        }
      ]
    },
    {
      "cell_type": "code",
      "metadata": {
        "colab": {
          "base_uri": "https://localhost:8080/"
        },
        "id": "BupxtkW-jPDk",
        "outputId": "4a4b852e-213b-4f75-e418-ee239edfc7cf"
      },
      "source": [
        "X_test.shape"
      ],
      "execution_count": 70,
      "outputs": [
        {
          "output_type": "execute_result",
          "data": {
            "text/plain": [
              "(10000, 3072)"
            ]
          },
          "metadata": {
            "tags": []
          },
          "execution_count": 70
        }
      ]
    },
    {
      "cell_type": "code",
      "metadata": {
        "id": "4tzUyrr7rBUg"
      },
      "source": [
        "INPUT_SIZE = 3072\n",
        "ENCODING_SIZE = 128"
      ],
      "execution_count": 71,
      "outputs": []
    },
    {
      "cell_type": "markdown",
      "metadata": {
        "id": "-h3DN2WW1Hjn"
      },
      "source": [
        "Create autoencoder\n",
        "\t\n",
        "Use ReLU  activation functions \n",
        "\n",
        "create constants for our input size and our encoding size. \n",
        "\n",
        "reduce our input from 3072 -> 2048 -> 1024 -> 512 -> 256 -> 128, encoder path\n",
        "\n",
        "then expand it back up  128 -> 256 -> 512 -> 1024 -> 2048 -> 3072, decoder path\n"
      ]
    },
    {
      "cell_type": "code",
      "metadata": {
        "id": "oacp6YGKjhtR"
      },
      "source": [
        "#reduce our input from 3072 -> 2048 -> 1024 -> 512 -> 256 -> 128  (encoder path), then expand it back up 128 -> 256 -> 512 -> 1024 -> 2048 -> 3072(decoder path).\n",
        "# Also notice the relu activation function\n",
        "input_img = Input(shape=(INPUT_SIZE,))\n",
        "encoded = Dense(3072, activation='relu')(input_img)\n",
        "encoded = Dense(2048, activation='relu')(encoded)\n",
        "encoded = Dense(1024, activation='relu')(encoded)\n",
        "encoded = Dense(512, activation='relu')(input_img)\n",
        "encoded = Dense(256, activation='relu')(encoded)\n",
        "encoded = Dense(128, activation='relu')(encoded)\n",
        "encoded = Dense(ENCODING_SIZE, activation='relu')(encoded)"
      ],
      "execution_count": 72,
      "outputs": []
    },
    {
      "cell_type": "code",
      "metadata": {
        "id": "MSF9HPsAj2ns"
      },
      "source": [
        "decoded = Dense(128, activation='relu')(encoded)\n",
        "decoded = Dense(256, activation='relu')(decoded)\n",
        "decoded = Dense(512, activation='relu')(decoded)\n",
        "decoded = Dense(1024, activation='relu')(decoded)\n",
        "decoded = Dense(2048, activation='relu')(decoded)\n",
        "decoded = Dense(3072, activation='relu')(decoded)\n",
        "decoded = Dense(INPUT_SIZE, activation='relu')(decoded)\n"
      ],
      "execution_count": 73,
      "outputs": []
    },
    {
      "cell_type": "code",
      "metadata": {
        "id": "1tMXFCw5j9lB"
      },
      "source": [
        "autoencoder = Model(input_img, decoded)"
      ],
      "execution_count": 74,
      "outputs": []
    },
    {
      "cell_type": "markdown",
      "metadata": {
        "id": "2awwn1Hw11C-"
      },
      "source": [
        "Training the model and then making the prediction \n",
        "\n",
        "Build and train the model.\n",
        "\n",
        "Use the ADAM optimizer and mean squared error loss (the Euclidean distance/loss) between the input and reconstruction\n",
        "\n",
        "encode and decode the test set to see how well model is performing\n",
        "\n"
      ]
    },
    {
      "cell_type": "code",
      "metadata": {
        "colab": {
          "base_uri": "https://localhost:8080/"
        },
        "id": "jZ0OekOij_hR",
        "outputId": "1e49df80-2aeb-4e56-953d-f25342759d87"
      },
      "source": [
        "#using ADAM optimizer and mean squared error loss (the Euclidean distance/loss) between the input and reconstruction\n",
        "autoencoder.compile(optimizer='adam', loss='mean_squared_error',)\n",
        "af= autoencoder.fit(X_train, X_train, epochs=50, batch_size=512, shuffle=True, validation_split=0.5)"
      ],
      "execution_count": 75,
      "outputs": [
        {
          "output_type": "stream",
          "text": [
            "Epoch 1/50\n",
            "49/49 [==============================] - 2s 38ms/step - loss: 0.1782 - val_loss: 0.0834\n",
            "Epoch 2/50\n",
            "49/49 [==============================] - 2s 34ms/step - loss: 0.0832 - val_loss: 0.0827\n",
            "Epoch 3/50\n",
            "49/49 [==============================] - 2s 33ms/step - loss: 0.0824 - val_loss: 0.0702\n",
            "Epoch 4/50\n",
            "49/49 [==============================] - 2s 34ms/step - loss: 0.0645 - val_loss: 0.0570\n",
            "Epoch 5/50\n",
            "49/49 [==============================] - 2s 34ms/step - loss: 0.0563 - val_loss: 0.0539\n",
            "Epoch 6/50\n",
            "49/49 [==============================] - 2s 35ms/step - loss: 0.0529 - val_loss: 0.0481\n",
            "Epoch 7/50\n",
            "49/49 [==============================] - 2s 34ms/step - loss: 0.0475 - val_loss: 0.0455\n",
            "Epoch 8/50\n",
            "49/49 [==============================] - 2s 34ms/step - loss: 0.0455 - val_loss: 0.0446\n",
            "Epoch 9/50\n",
            "49/49 [==============================] - 2s 33ms/step - loss: 0.0443 - val_loss: 0.0431\n",
            "Epoch 10/50\n",
            "49/49 [==============================] - 2s 34ms/step - loss: 0.0594 - val_loss: 0.0559\n",
            "Epoch 11/50\n",
            "49/49 [==============================] - 2s 34ms/step - loss: 0.0546 - val_loss: 0.0463\n",
            "Epoch 12/50\n",
            "49/49 [==============================] - 2s 34ms/step - loss: 0.0454 - val_loss: 0.0411\n",
            "Epoch 13/50\n",
            "49/49 [==============================] - 2s 34ms/step - loss: 0.0406 - val_loss: 0.0388\n",
            "Epoch 14/50\n",
            "49/49 [==============================] - 2s 34ms/step - loss: 0.0386 - val_loss: 0.0377\n",
            "Epoch 15/50\n",
            "49/49 [==============================] - 2s 34ms/step - loss: 0.0371 - val_loss: 0.0352\n",
            "Epoch 16/50\n",
            "49/49 [==============================] - 2s 35ms/step - loss: 0.0349 - val_loss: 0.0343\n",
            "Epoch 17/50\n",
            "49/49 [==============================] - 2s 34ms/step - loss: 0.0344 - val_loss: 0.0340\n",
            "Epoch 18/50\n",
            "49/49 [==============================] - 2s 34ms/step - loss: 0.0340 - val_loss: 0.0339\n",
            "Epoch 19/50\n",
            "49/49 [==============================] - 2s 34ms/step - loss: 0.0338 - val_loss: 0.0330\n",
            "Epoch 20/50\n",
            "49/49 [==============================] - 2s 34ms/step - loss: 0.0333 - val_loss: 0.0337\n",
            "Epoch 21/50\n",
            "49/49 [==============================] - 2s 34ms/step - loss: 0.0331 - val_loss: 0.0318\n",
            "Epoch 22/50\n",
            "49/49 [==============================] - 2s 35ms/step - loss: 0.0313 - val_loss: 0.0304\n",
            "Epoch 23/50\n",
            "49/49 [==============================] - 2s 35ms/step - loss: 0.0303 - val_loss: 0.0300\n",
            "Epoch 24/50\n",
            "49/49 [==============================] - 2s 35ms/step - loss: 0.0301 - val_loss: 0.0299\n",
            "Epoch 25/50\n",
            "49/49 [==============================] - 2s 34ms/step - loss: 0.0299 - val_loss: 0.0297\n",
            "Epoch 26/50\n",
            "49/49 [==============================] - 2s 34ms/step - loss: 0.0287 - val_loss: 0.0276\n",
            "Epoch 27/50\n",
            "49/49 [==============================] - 2s 34ms/step - loss: 0.0279 - val_loss: 0.0262\n",
            "Epoch 28/50\n",
            "49/49 [==============================] - 2s 34ms/step - loss: 0.0263 - val_loss: 0.0259\n",
            "Epoch 29/50\n",
            "49/49 [==============================] - 2s 34ms/step - loss: 0.0261 - val_loss: 0.0258\n",
            "Epoch 30/50\n",
            "49/49 [==============================] - 2s 34ms/step - loss: 0.0258 - val_loss: 0.0259\n",
            "Epoch 31/50\n",
            "49/49 [==============================] - 2s 34ms/step - loss: 0.0257 - val_loss: 0.0259\n",
            "Epoch 32/50\n",
            "49/49 [==============================] - 2s 34ms/step - loss: 0.0257 - val_loss: 0.0256\n",
            "Epoch 33/50\n",
            "49/49 [==============================] - 2s 34ms/step - loss: 0.0257 - val_loss: 0.0256\n",
            "Epoch 34/50\n",
            "49/49 [==============================] - 2s 34ms/step - loss: 0.0256 - val_loss: 0.0253\n",
            "Epoch 35/50\n",
            "49/49 [==============================] - 2s 34ms/step - loss: 0.0251 - val_loss: 0.0242\n",
            "Epoch 36/50\n",
            "49/49 [==============================] - 2s 34ms/step - loss: 0.0242 - val_loss: 0.0241\n",
            "Epoch 37/50\n",
            "49/49 [==============================] - 2s 33ms/step - loss: 0.0241 - val_loss: 0.0241\n",
            "Epoch 38/50\n",
            "49/49 [==============================] - 2s 33ms/step - loss: 0.0241 - val_loss: 0.0240\n",
            "Epoch 39/50\n",
            "49/49 [==============================] - 2s 33ms/step - loss: 0.0237 - val_loss: 0.0239\n",
            "Epoch 40/50\n",
            "49/49 [==============================] - 2s 33ms/step - loss: 0.0239 - val_loss: 0.0239\n",
            "Epoch 41/50\n",
            "49/49 [==============================] - 2s 33ms/step - loss: 0.0238 - val_loss: 0.0238\n",
            "Epoch 42/50\n",
            "49/49 [==============================] - 2s 33ms/step - loss: 0.0236 - val_loss: 0.0237\n",
            "Epoch 43/50\n",
            "49/49 [==============================] - 2s 33ms/step - loss: 0.0234 - val_loss: 0.0237\n",
            "Epoch 44/50\n",
            "49/49 [==============================] - 2s 34ms/step - loss: 0.0236 - val_loss: 0.0236\n",
            "Epoch 45/50\n",
            "49/49 [==============================] - 2s 33ms/step - loss: 0.0234 - val_loss: 0.0236\n",
            "Epoch 46/50\n",
            "49/49 [==============================] - 2s 33ms/step - loss: 0.0234 - val_loss: 0.0233\n",
            "Epoch 47/50\n",
            "49/49 [==============================] - 2s 33ms/step - loss: 0.0235 - val_loss: 0.0248\n",
            "Epoch 48/50\n",
            "49/49 [==============================] - 2s 33ms/step - loss: 0.0230 - val_loss: 0.0223\n",
            "Epoch 49/50\n",
            "49/49 [==============================] - 2s 33ms/step - loss: 0.0219 - val_loss: 0.0223\n",
            "Epoch 50/50\n",
            "49/49 [==============================] - 2s 33ms/step - loss: 0.0220 - val_loss: 0.0233\n"
          ],
          "name": "stdout"
        }
      ]
    },
    {
      "cell_type": "code",
      "metadata": {
        "id": "SmLdgFuLkHLE"
      },
      "source": [
        "#After our autoencoder has trained, we can try to encode and decode the test set to see how well our autoencoder can compress\n",
        "decoded_imgs = autoencoder.predict(X_test)"
      ],
      "execution_count": 76,
      "outputs": []
    },
    {
      "cell_type": "markdown",
      "metadata": {
        "id": "l9AV9WA32DO4"
      },
      "source": [
        "Visvualize the results "
      ]
    },
    {
      "cell_type": "code",
      "metadata": {
        "colab": {
          "base_uri": "https://localhost:8080/",
          "height": 313
        },
        "id": "4QGe9UvVu2gL",
        "outputId": "e114454c-638b-479b-9c0c-24327d537d6a"
      },
      "source": [
        "plt.figure(figsize=(20, 4))\n",
        "for i in range(10):\n",
        "    # original\n",
        "    plt.subplot(2, 10, i + 1)\n",
        "    plt.imshow(X_test[i].reshape(32, 32, 3))\n",
        "    plt.gray()\n",
        "    plt.axis('off')\n",
        " \n",
        "    # reconstruction\n",
        "    plt.subplot(2, 10, i + 1 + 10)\n",
        "    plt.imshow(decoded_imgs[i].reshape(32, 32, 3))\n",
        "    plt.gray()\n",
        "    plt.axis('off')\n",
        " \n",
        "plt.tight_layout()\n",
        "plt.show()"
      ],
      "execution_count": 77,
      "outputs": [
        {
          "output_type": "stream",
          "text": [
            "Clipping input data to the valid range for imshow with RGB data ([0..1] for floats or [0..255] for integers).\n"
          ],
          "name": "stderr"
        },
        {
          "output_type": "display_data",
          "data": {
            "image/png": "[encoded data removed]",
            "text/plain": [
              "<Figure size 1440x288 with 20 Axes>"
            ]
          },
          "metadata": {
            "tags": [],
            "needs_background": "light"
          }
        }
      ]
    },
    {
      "cell_type": "code",
      "metadata": {
        "id": "FAcah1drwp5F"
      },
      "source": [
        "import numpy as np\n",
        "import tensorflow as tf\n",
        "from keras.layers import Conv2D, MaxPooling2D, Dense, Flatten, Activation, Dropout, MaxPooling2D\n",
        "from keras.utils import to_categorical\n",
        "import matplotlib.pyplot as plt"
      ],
      "execution_count": 78,
      "outputs": []
    },
    {
      "cell_type": "code",
      "metadata": {
        "id": "G8wNQ_5JwrbI"
      },
      "source": [
        "(train_images, train_labels), (test_images, test_labels) = cifar10.load_data()"
      ],
      "execution_count": 79,
      "outputs": []
    },
    {
      "cell_type": "code",
      "metadata": {
        "id": "lh_DM2Xei19R"
      },
      "source": [
        "total_classes = 10\n",
        "img_classes = [\"dolphin\", \"shark\", \"chimpanzee\", \"elephant\", \"kangaroo\", \n",
        "                   \"camel\", \"rabbit\", \"hamster\", \"squirrel\", \"wolf\"]"
      ],
      "execution_count": 80,
      "outputs": []
    },
    {
      "cell_type": "code",
      "metadata": {
        "id": "5fvE-hRywrlV"
      },
      "source": [
        "# Normalize the images.\n",
        "train_images = (train_images / 255) \n",
        "test_images = (test_images / 255)"
      ],
      "execution_count": 81,
      "outputs": []
    },
    {
      "cell_type": "code",
      "metadata": {
        "id": "Xcah0Yovwro7"
      },
      "source": [
        "# Reshape the images.\n",
        "train_images = np.expand_dims(train_images, axis=3)\n",
        "test_images = np.expand_dims(test_images, axis=3)"
      ],
      "execution_count": 82,
      "outputs": []
    },
    {
      "cell_type": "code",
      "metadata": {
        "colab": {
          "base_uri": "https://localhost:8080/"
        },
        "id": "5_r5ONzxfUZj",
        "outputId": "4ac4d8fd-6ab1-40f3-bec1-4c63240044ef"
      },
      "source": [
        "train_images.shape"
      ],
      "execution_count": 83,
      "outputs": [
        {
          "output_type": "execute_result",
          "data": {
            "text/plain": [
              "(50000, 32, 32, 1, 3)"
            ]
          },
          "metadata": {
            "tags": []
          },
          "execution_count": 83
        }
      ]
    },
    {
      "cell_type": "code",
      "metadata": {
        "colab": {
          "base_uri": "https://localhost:8080/"
        },
        "id": "eqFyCGc7fWhr",
        "outputId": "f3056b46-f40b-4b25-d3d3-cfa186901d80"
      },
      "source": [
        "test_images.shape"
      ],
      "execution_count": 84,
      "outputs": [
        {
          "output_type": "execute_result",
          "data": {
            "text/plain": [
              "(10000, 32, 32, 1, 3)"
            ]
          },
          "metadata": {
            "tags": []
          },
          "execution_count": 84
        }
      ]
    },
    {
      "cell_type": "code",
      "metadata": {
        "id": "soSpyDp6wrr4"
      },
      "source": [
        "num_filters = 12\n",
        "filter_size = 6\n",
        "pool_size = 2"
      ],
      "execution_count": 85,
      "outputs": []
    },
    {
      "cell_type": "code",
      "metadata": {
        "id": "7XKTc_3dfxHJ"
      },
      "source": [
        "model = Sequential()\n",
        "model.add(Conv2D(32, (3, 3), input_shape=(train_images.shape[1:]), padding='same', activation='relu'))\n",
        "model.add(Dropout(0.5))\n",
        "model.add(Conv2D(32, (3, 3), activation='relu', padding='same'))\n",
        "model.add(Dropout(0.5))\n",
        "model.add(Flatten())\n",
        "model.add(Dense(128, activation='relu'))\n",
        "model.add(Dropout(0.3))\n",
        "model.add(Dense(total_classes, activation='sigmoid'))"
      ],
      "execution_count": 86,
      "outputs": []
    },
    {
      "cell_type": "code",
      "metadata": {
        "id": "uhflsBSvw-GX"
      },
      "source": [
        "# Compile the model.\n",
        "model.compile(\n",
        "  'adam',\n",
        "  loss='sparse_categorical_crossentropy',\n",
        "  metrics=['accuracy'],\n",
        ")"
      ],
      "execution_count": 87,
      "outputs": []
    },
    {
      "cell_type": "code",
      "metadata": {
        "colab": {
          "base_uri": "https://localhost:8080/"
        },
        "id": "srpkxU0_w-JR",
        "outputId": "f13cc09a-7399-41ef-d16a-7f8130184749"
      },
      "source": [
        "# Train the model.\n",
        "mf= model.fit(train_images, train_labels, validation_data= (test_images, test_labels), epochs=30, batch_size=512)"
      ],
      "execution_count": 88,
      "outputs": [
        {
          "output_type": "stream",
          "text": [
            "Epoch 1/30\n",
            "98/98 [==============================] - 6s 58ms/step - loss: 2.0749 - accuracy: 0.2345 - val_loss: 1.6722 - val_accuracy: 0.4106\n",
            "Epoch 2/30\n",
            "98/98 [==============================] - 5s 56ms/step - loss: 1.6918 - accuracy: 0.3976 - val_loss: 1.4849 - val_accuracy: 0.4737\n",
            "Epoch 3/30\n",
            "98/98 [==============================] - 5s 56ms/step - loss: 1.5370 - accuracy: 0.4550 - val_loss: 1.4068 - val_accuracy: 0.5002\n",
            "Epoch 4/30\n",
            "98/98 [==============================] - 6s 56ms/step - loss: 1.4478 - accuracy: 0.4848 - val_loss: 1.3331 - val_accuracy: 0.5235\n",
            "Epoch 5/30\n",
            "98/98 [==============================] - 6s 57ms/step - loss: 1.3945 - accuracy: 0.5053 - val_loss: 1.2841 - val_accuracy: 0.5449\n",
            "Epoch 6/30\n",
            "98/98 [==============================] - 6s 57ms/step - loss: 1.3452 - accuracy: 0.5264 - val_loss: 1.2410 - val_accuracy: 0.5569\n",
            "Epoch 7/30\n",
            "98/98 [==============================] - 6s 57ms/step - loss: 1.3002 - accuracy: 0.5353 - val_loss: 1.2252 - val_accuracy: 0.5632\n",
            "Epoch 8/30\n",
            "98/98 [==============================] - 6s 56ms/step - loss: 1.2755 - accuracy: 0.5508 - val_loss: 1.2019 - val_accuracy: 0.5771\n",
            "Epoch 9/30\n",
            "98/98 [==============================] - 6s 56ms/step - loss: 1.2581 - accuracy: 0.5540 - val_loss: 1.1971 - val_accuracy: 0.5766\n",
            "Epoch 10/30\n",
            "98/98 [==============================] - 5s 56ms/step - loss: 1.2216 - accuracy: 0.5658 - val_loss: 1.1616 - val_accuracy: 0.5903\n",
            "Epoch 11/30\n",
            "98/98 [==============================] - 5s 56ms/step - loss: 1.1907 - accuracy: 0.5773 - val_loss: 1.1576 - val_accuracy: 0.5892\n",
            "Epoch 12/30\n",
            "98/98 [==============================] - 5s 56ms/step - loss: 1.1728 - accuracy: 0.5821 - val_loss: 1.1450 - val_accuracy: 0.5951\n",
            "Epoch 13/30\n",
            "98/98 [==============================] - 5s 56ms/step - loss: 1.1489 - accuracy: 0.5892 - val_loss: 1.1276 - val_accuracy: 0.6011\n",
            "Epoch 14/30\n",
            "98/98 [==============================] - 5s 56ms/step - loss: 1.1226 - accuracy: 0.5985 - val_loss: 1.1127 - val_accuracy: 0.6107\n",
            "Epoch 15/30\n",
            "98/98 [==============================] - 5s 56ms/step - loss: 1.1093 - accuracy: 0.6028 - val_loss: 1.1145 - val_accuracy: 0.6102\n",
            "Epoch 16/30\n",
            "98/98 [==============================] - 5s 56ms/step - loss: 1.0908 - accuracy: 0.6089 - val_loss: 1.1122 - val_accuracy: 0.6120\n",
            "Epoch 17/30\n",
            "98/98 [==============================] - 5s 56ms/step - loss: 1.0599 - accuracy: 0.6194 - val_loss: 1.1075 - val_accuracy: 0.6106\n",
            "Epoch 18/30\n",
            "98/98 [==============================] - 5s 56ms/step - loss: 1.0497 - accuracy: 0.6250 - val_loss: 1.0935 - val_accuracy: 0.6175\n",
            "Epoch 19/30\n",
            "98/98 [==============================] - 6s 56ms/step - loss: 1.0318 - accuracy: 0.6281 - val_loss: 1.0876 - val_accuracy: 0.6198\n",
            "Epoch 20/30\n",
            "98/98 [==============================] - 5s 56ms/step - loss: 1.0188 - accuracy: 0.6332 - val_loss: 1.0838 - val_accuracy: 0.6189\n",
            "Epoch 21/30\n",
            "98/98 [==============================] - 5s 56ms/step - loss: 1.0009 - accuracy: 0.6443 - val_loss: 1.0752 - val_accuracy: 0.6224\n",
            "Epoch 22/30\n",
            "98/98 [==============================] - 5s 56ms/step - loss: 0.9875 - accuracy: 0.6455 - val_loss: 1.0850 - val_accuracy: 0.6219\n",
            "Epoch 23/30\n",
            "98/98 [==============================] - 6s 56ms/step - loss: 0.9762 - accuracy: 0.6483 - val_loss: 1.0738 - val_accuracy: 0.6269\n",
            "Epoch 24/30\n",
            "98/98 [==============================] - 5s 56ms/step - loss: 0.9513 - accuracy: 0.6553 - val_loss: 1.0633 - val_accuracy: 0.6244\n",
            "Epoch 25/30\n",
            "98/98 [==============================] - 6s 56ms/step - loss: 0.9484 - accuracy: 0.6563 - val_loss: 1.0683 - val_accuracy: 0.6261\n",
            "Epoch 26/30\n",
            "98/98 [==============================] - 5s 56ms/step - loss: 0.9326 - accuracy: 0.6635 - val_loss: 1.0719 - val_accuracy: 0.6292\n",
            "Epoch 27/30\n",
            "98/98 [==============================] - 5s 56ms/step - loss: 0.9330 - accuracy: 0.6639 - val_loss: 1.0675 - val_accuracy: 0.6290\n",
            "Epoch 28/30\n",
            "98/98 [==============================] - 5s 56ms/step - loss: 0.9082 - accuracy: 0.6700 - val_loss: 1.0766 - val_accuracy: 0.6313\n",
            "Epoch 29/30\n",
            "98/98 [==============================] - 5s 56ms/step - loss: 0.9032 - accuracy: 0.6724 - val_loss: 1.0721 - val_accuracy: 0.6270\n",
            "Epoch 30/30\n",
            "98/98 [==============================] - 5s 56ms/step - loss: 0.8787 - accuracy: 0.6821 - val_loss: 1.0652 - val_accuracy: 0.6309\n"
          ],
          "name": "stdout"
        }
      ]
    },
    {
      "cell_type": "code",
      "metadata": {
        "colab": {
          "base_uri": "https://localhost:8080/"
        },
        "id": "Bvv_bbiTIxt3",
        "outputId": "98359753-75ea-48c0-b682-b51fe0887930"
      },
      "source": [
        "model.summary()"
      ],
      "execution_count": 89,
      "outputs": [
        {
          "output_type": "stream",
          "text": [
            "Model: \"sequential_13\"\n",
            "_________________________________________________________________\n",
            "Layer (type)                 Output Shape              Param #   \n",
            "=================================================================\n",
            "conv2d_26 (Conv2D)           (None, 32, 32, 1, 32)     896       \n",
            "_________________________________________________________________\n",
            "dropout_39 (Dropout)         (None, 32, 32, 1, 32)     0         \n",
            "_________________________________________________________________\n",
            "conv2d_27 (Conv2D)           (None, 32, 32, 1, 32)     9248      \n",
            "_________________________________________________________________\n",
            "dropout_40 (Dropout)         (None, 32, 32, 1, 32)     0         \n",
            "_________________________________________________________________\n",
            "flatten_13 (Flatten)         (None, 32768)             0         \n",
            "_________________________________________________________________\n",
            "dense_64 (Dense)             (None, 128)               4194432   \n",
            "_________________________________________________________________\n",
            "dropout_41 (Dropout)         (None, 128)               0         \n",
            "_________________________________________________________________\n",
            "dense_65 (Dense)             (None, 10)                1290      \n",
            "=================================================================\n",
            "Total params: 4,205,866\n",
            "Trainable params: 4,205,866\n",
            "Non-trainable params: 0\n",
            "_________________________________________________________________\n"
          ],
          "name": "stdout"
        }
      ]
    },
    {
      "cell_type": "code",
      "metadata": {
        "colab": {
          "base_uri": "https://localhost:8080/",
          "height": 278
        },
        "id": "WNqIPTlow-Ox",
        "outputId": "916e83fc-c998-4eb8-a90f-07dddab9d9c3"
      },
      "source": [
        "# plot the acc and val_acc\n",
        "plt.plot(mf.history['accuracy'])\n",
        "plt.plot(mf.history['val_accuracy'])\n",
        "plt.ylabel('loss')\n",
        "plt.xlabel('epoch')\n",
        "plt.legend(['acc', 'val_acc'], loc='lower right')\n",
        "plt.show()"
      ],
      "execution_count": 90,
      "outputs": [
        {
          "output_type": "display_data",
          "data": {
            "image/png": "[encoded data removed]",
            "text/plain": [
              "<Figure size 432x288 with 1 Axes>"
            ]
          },
          "metadata": {
            "tags": [],
            "needs_background": "light"
          }
        }
      ]
    },
    {
      "cell_type": "code",
      "metadata": {
        "id": "Ganai2kyw-MX"
      },
      "source": [
        "# Predict on the first 5 test images.\n",
        "predictions = model.predict(test_images[:5])"
      ],
      "execution_count": 94,
      "outputs": []
    },
    {
      "cell_type": "code",
      "metadata": {
        "colab": {
          "base_uri": "https://localhost:8080/"
        },
        "id": "m2M4HSP0KRaX",
        "outputId": "77670189-1fcc-4834-aa88-a89efe7bc885"
      },
      "source": [
        "# Print our model's predictions.\n",
        "print(\"These are the model predictions :\")\n",
        "print(np.argmax(predictions, axis=1))\n",
        "print(\"\\n\")"
      ],
      "execution_count": 95,
      "outputs": [
        {
          "output_type": "stream",
          "text": [
            "These are the model predictions :\n",
            "[3 8 8 0 4]\n",
            "\n",
            "\n"
          ],
          "name": "stdout"
        }
      ]
    },
    {
      "cell_type": "code",
      "metadata": {
        "colab": {
          "base_uri": "https://localhost:8080/"
        },
        "id": "vWE1TPB-KRMF",
        "outputId": "927dd262-7842-485c-9173-bf38caf6a8cf"
      },
      "source": [
        "# Check our predictions against the ground truths.\n",
        "print(\"These are the corresponding labels :\")\n",
        "print(test_labels[:5]) "
      ],
      "execution_count": 96,
      "outputs": [
        {
          "output_type": "stream",
          "text": [
            "These are the corresponding labels :\n",
            "[[3]\n",
            " [8]\n",
            " [8]\n",
            " [0]\n",
            " [6]]\n"
          ],
          "name": "stdout"
        }
      ]
    },
    {
      "cell_type": "code",
      "metadata": {
        "id": "oo1PAJQ1c4Lb"
      },
      "source": [
        ""
      ],
      "execution_count": 93,
      "outputs": []
    }
  ]
}